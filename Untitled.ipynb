{
 "cells": [
  {
   "cell_type": "code",
   "execution_count": 53,
   "id": "1219e3ec",
   "metadata": {},
   "outputs": [
    {
     "name": "stdout",
     "output_type": "stream",
     "text": [
      "done\n"
     ]
    }
   ],
   "source": [
    "import pandas as pd\n",
    "import csv\n",
    "\n",
    "dfs = pd.read_excel('IMDB Dataset.xlsx', sheet_name='IMDB Dataset')\n",
    "data_info = ['reviews','sentement']\n",
    "try:\n",
    "    for review in dfs['review'].values:\n",
    "        for sentiment in dfs['sentiment'].values:\n",
    "            dict = [{\n",
    "            'reviews':review,\n",
    "            'sentement':sentiment\n",
    "        }]\n",
    "        with open('test4.csv', 'w') as csvfile:\n",
    "            writer = csv.DictWriter(csvfile, fieldnames=data_info)\n",
    "            writer.writeheader()\n",
    "            writer.writerows(dict)\n",
    "except:pass\n",
    "print('done')"
   ]
  },
  {
   "cell_type": "code",
   "execution_count": 63,
   "id": "38ea4204",
   "metadata": {
    "scrolled": true
   },
   "outputs": [],
   "source": [
    "import pandas as pd\n",
    "from textblob import TextBlob\n",
    "from nltk.tokenize.toktok import ToktokTokenizer\n",
    "import re\n",
    "tokenizer = ToktokTokenizer()\n",
    "import spacy\n",
    "nlp = spacy.load('en_core_web_sm', disable=['ner'])"
   ]
  },
  {
   "cell_type": "markdown",
   "id": "96378c6a",
   "metadata": {},
   "source": [
    "### Polarity and Subjectivity\n",
    "Polarity is a float value which helps in identifying whether a sentence is positive or negative. Its values ranges in [-1,1] where 1 means positive statement and -1 means a negative statement.\n",
    "\n",
    "On the other side, Subjective sentences generally refer to personal opinion, emotion or judgment whereas objective refers to factual information. Subjectivity is also a float which lies in the range of [0,1]. Closer the value to 1, more likly it is public opinion."
   ]
  },
  {
   "cell_type": "code",
   "execution_count": 181,
   "id": "12613272",
   "metadata": {},
   "outputs": [
    {
     "data": {
      "text/html": [
       "<div>\n",
       "<style scoped>\n",
       "    .dataframe tbody tr th:only-of-type {\n",
       "        vertical-align: middle;\n",
       "    }\n",
       "\n",
       "    .dataframe tbody tr th {\n",
       "        vertical-align: top;\n",
       "    }\n",
       "\n",
       "    .dataframe thead th {\n",
       "        text-align: right;\n",
       "    }\n",
       "</style>\n",
       "<table border=\"1\" class=\"dataframe\">\n",
       "  <thead>\n",
       "    <tr style=\"text-align: right;\">\n",
       "      <th></th>\n",
       "      <th>review</th>\n",
       "      <th>sentiment</th>\n",
       "    </tr>\n",
       "  </thead>\n",
       "  <tbody>\n",
       "    <tr>\n",
       "      <th>0</th>\n",
       "      <td>One of the other reviewers has mentioned that ...</td>\n",
       "      <td>positive</td>\n",
       "    </tr>\n",
       "    <tr>\n",
       "      <th>1</th>\n",
       "      <td>A wonderful little production. &lt;br /&gt;&lt;br /&gt;The...</td>\n",
       "      <td>positive</td>\n",
       "    </tr>\n",
       "    <tr>\n",
       "      <th>2</th>\n",
       "      <td>I thought this was a wonderful way to spend ti...</td>\n",
       "      <td>positive</td>\n",
       "    </tr>\n",
       "    <tr>\n",
       "      <th>3</th>\n",
       "      <td>Basically there's a family where a little boy ...</td>\n",
       "      <td>negative</td>\n",
       "    </tr>\n",
       "    <tr>\n",
       "      <th>4</th>\n",
       "      <td>Petter Mattei's \"Love in the Time of Money\" is...</td>\n",
       "      <td>positive</td>\n",
       "    </tr>\n",
       "    <tr>\n",
       "      <th>...</th>\n",
       "      <td>...</td>\n",
       "      <td>...</td>\n",
       "    </tr>\n",
       "    <tr>\n",
       "      <th>49995</th>\n",
       "      <td>I thought this movie did a down right good job...</td>\n",
       "      <td>positive</td>\n",
       "    </tr>\n",
       "    <tr>\n",
       "      <th>49996</th>\n",
       "      <td>Bad plot, bad dialogue, bad acting, idiotic di...</td>\n",
       "      <td>negative</td>\n",
       "    </tr>\n",
       "    <tr>\n",
       "      <th>49997</th>\n",
       "      <td>I am a Catholic taught in parochial elementary...</td>\n",
       "      <td>negative</td>\n",
       "    </tr>\n",
       "    <tr>\n",
       "      <th>49998</th>\n",
       "      <td>I'm going to have to disagree with the previou...</td>\n",
       "      <td>negative</td>\n",
       "    </tr>\n",
       "    <tr>\n",
       "      <th>49999</th>\n",
       "      <td>No one expects the Star Trek movies to be high...</td>\n",
       "      <td>negative</td>\n",
       "    </tr>\n",
       "  </tbody>\n",
       "</table>\n",
       "<p>50000 rows × 2 columns</p>\n",
       "</div>"
      ],
      "text/plain": [
       "                                                  review sentiment\n",
       "0      One of the other reviewers has mentioned that ...  positive\n",
       "1      A wonderful little production. <br /><br />The...  positive\n",
       "2      I thought this was a wonderful way to spend ti...  positive\n",
       "3      Basically there's a family where a little boy ...  negative\n",
       "4      Petter Mattei's \"Love in the Time of Money\" is...  positive\n",
       "...                                                  ...       ...\n",
       "49995  I thought this movie did a down right good job...  positive\n",
       "49996  Bad plot, bad dialogue, bad acting, idiotic di...  negative\n",
       "49997  I am a Catholic taught in parochial elementary...  negative\n",
       "49998  I'm going to have to disagree with the previou...  negative\n",
       "49999  No one expects the Star Trek movies to be high...  negative\n",
       "\n",
       "[50000 rows x 2 columns]"
      ]
     },
     "execution_count": 181,
     "metadata": {},
     "output_type": "execute_result"
    }
   ],
   "source": [
    "TextBlob('Eerybody says this man is poor').sentiment\n",
    "dfs"
   ]
  },
  {
   "cell_type": "code",
   "execution_count": 315,
   "id": "aef01e56",
   "metadata": {},
   "outputs": [],
   "source": [
    "positive_label = dfs[dfs['sentiment'] == 'positive'].sample(n=5000)\n",
    "negative_label = dfs[dfs['sentiment'] == 'negative'].sample(n=5000)"
   ]
  },
  {
   "cell_type": "code",
   "execution_count": 316,
   "id": "93a7b6e9",
   "metadata": {},
   "outputs": [],
   "source": [
    "from sklearn.utils import shuffle\n",
    "train = pd.concat([positive_label,negative_label])\n",
    "train = shuffle(train)\n"
   ]
  },
  {
   "cell_type": "markdown",
   "id": "681c97bc",
   "metadata": {},
   "source": [
    "### the data proccessing staff"
   ]
  },
  {
   "cell_type": "code",
   "execution_count": 184,
   "id": "ccb583ca",
   "metadata": {},
   "outputs": [
    {
     "data": {
      "text/plain": [
       "review       0\n",
       "sentiment    0\n",
       "dtype: int64"
      ]
     },
     "execution_count": 184,
     "metadata": {},
     "output_type": "execute_result"
    }
   ],
   "source": [
    "train.isnull().sum()\n"
   ]
  },
  {
   "cell_type": "code",
   "execution_count": 317,
   "id": "6c6a85c3",
   "metadata": {},
   "outputs": [],
   "source": [
    "import numpy as np\n",
    "train.replace(r\"^\\s*$\",np.nan,regex = True,inplace = True)\n",
    "train.dropna(inplace=True,how= 'any',axis = 0)"
   ]
  },
  {
   "cell_type": "code",
   "execution_count": 318,
   "id": "7d831864",
   "metadata": {},
   "outputs": [
    {
     "name": "stdout",
     "output_type": "stream",
     "text": [
      "done\n"
     ]
    }
   ],
   "source": [
    "to_be_replaced =[r\"\\\\t|\\\\n|\\\\r\",\"\\t|\\n|\\r\"]\n",
    "values_to_replace = [\"\",\"\"]\n",
    "\n",
    "train.replace(to_replace=to_be_replaced , value= values_to_replace,regex=True,inplace=True)\n",
    "print('done')"
   ]
  },
  {
   "cell_type": "code",
   "execution_count": 319,
   "id": "b4481ced",
   "metadata": {},
   "outputs": [
    {
     "name": "stdout",
     "output_type": "stream",
     "text": [
      "work on escape seq removal done\n"
     ]
    }
   ],
   "source": [
    "train['review'] = train['review'].str.encode('ascii','ignore').str.decode('ascii')\n",
    "print('work on escape seq removal done')"
   ]
  },
  {
   "cell_type": "code",
   "execution_count": 320,
   "id": "3c5a3572",
   "metadata": {},
   "outputs": [],
   "source": [
    "import string\n",
    "def removal_punctuation(text):\n",
    "    for punctuation in string.punctuation:\n",
    "        text = text.replace(punctuation,'')\n",
    "    return text"
   ]
  },
  {
   "cell_type": "code",
   "execution_count": 321,
   "id": "d71804ed",
   "metadata": {},
   "outputs": [],
   "source": [
    "train['review'] = train['review'].apply(removal_punctuation)"
   ]
  },
  {
   "cell_type": "code",
   "execution_count": 304,
   "id": "7f65617f",
   "metadata": {},
   "outputs": [
    {
     "data": {
      "text/plain": [
       "{'a',\n",
       " 'about',\n",
       " 'above',\n",
       " 'after',\n",
       " 'again',\n",
       " 'against',\n",
       " 'ain',\n",
       " 'all',\n",
       " 'am',\n",
       " 'an',\n",
       " 'and',\n",
       " 'any',\n",
       " 'are',\n",
       " 'aren',\n",
       " \"aren't\",\n",
       " 'as',\n",
       " 'at',\n",
       " 'be',\n",
       " 'because',\n",
       " 'been',\n",
       " 'before',\n",
       " 'being',\n",
       " 'below',\n",
       " 'between',\n",
       " 'both',\n",
       " 'but',\n",
       " 'by',\n",
       " 'can',\n",
       " 'couldn',\n",
       " \"couldn't\",\n",
       " 'd',\n",
       " 'did',\n",
       " 'didn',\n",
       " \"didn't\",\n",
       " 'do',\n",
       " 'does',\n",
       " 'doesn',\n",
       " \"doesn't\",\n",
       " 'doing',\n",
       " 'don',\n",
       " \"don't\",\n",
       " 'down',\n",
       " 'during',\n",
       " 'each',\n",
       " 'few',\n",
       " 'for',\n",
       " 'from',\n",
       " 'further',\n",
       " 'had',\n",
       " 'hadn',\n",
       " \"hadn't\",\n",
       " 'has',\n",
       " 'hasn',\n",
       " \"hasn't\",\n",
       " 'have',\n",
       " 'haven',\n",
       " \"haven't\",\n",
       " 'having',\n",
       " 'he',\n",
       " 'her',\n",
       " 'here',\n",
       " 'hers',\n",
       " 'herself',\n",
       " 'him',\n",
       " 'himself',\n",
       " 'his',\n",
       " 'how',\n",
       " 'i',\n",
       " 'if',\n",
       " 'in',\n",
       " 'into',\n",
       " 'is',\n",
       " 'isn',\n",
       " \"isn't\",\n",
       " 'it',\n",
       " \"it's\",\n",
       " 'its',\n",
       " 'itself',\n",
       " 'just',\n",
       " 'll',\n",
       " 'm',\n",
       " 'ma',\n",
       " 'me',\n",
       " 'mightn',\n",
       " \"mightn't\",\n",
       " 'more',\n",
       " 'most',\n",
       " 'mustn',\n",
       " \"mustn't\",\n",
       " 'my',\n",
       " 'myself',\n",
       " 'needn',\n",
       " \"needn't\",\n",
       " 'nor',\n",
       " 'now',\n",
       " 'o',\n",
       " 'of',\n",
       " 'off',\n",
       " 'on',\n",
       " 'once',\n",
       " 'only',\n",
       " 'or',\n",
       " 'other',\n",
       " 'our',\n",
       " 'ours',\n",
       " 'ourselves',\n",
       " 'out',\n",
       " 'over',\n",
       " 'own',\n",
       " 're',\n",
       " 's',\n",
       " 'same',\n",
       " 'shan',\n",
       " \"shan't\",\n",
       " 'she',\n",
       " \"she's\",\n",
       " 'should',\n",
       " \"should've\",\n",
       " 'shouldn',\n",
       " \"shouldn't\",\n",
       " 'so',\n",
       " 'some',\n",
       " 'such',\n",
       " 't',\n",
       " 'than',\n",
       " 'that',\n",
       " \"that'll\",\n",
       " 'the',\n",
       " 'their',\n",
       " 'theirs',\n",
       " 'them',\n",
       " 'themselves',\n",
       " 'then',\n",
       " 'there',\n",
       " 'these',\n",
       " 'they',\n",
       " 'this',\n",
       " 'those',\n",
       " 'through',\n",
       " 'to',\n",
       " 'too',\n",
       " 'under',\n",
       " 'until',\n",
       " 'up',\n",
       " 've',\n",
       " 'very',\n",
       " 'was',\n",
       " 'wasn',\n",
       " \"wasn't\",\n",
       " 'we',\n",
       " 'were',\n",
       " 'weren',\n",
       " \"weren't\",\n",
       " 'what',\n",
       " 'when',\n",
       " 'where',\n",
       " 'which',\n",
       " 'while',\n",
       " 'who',\n",
       " 'whom',\n",
       " 'why',\n",
       " 'will',\n",
       " 'with',\n",
       " 'won',\n",
       " \"won't\",\n",
       " 'wouldn',\n",
       " \"wouldn't\",\n",
       " 'y',\n",
       " 'you',\n",
       " \"you'd\",\n",
       " \"you'll\",\n",
       " \"you're\",\n",
       " \"you've\",\n",
       " 'your',\n",
       " 'yours',\n",
       " 'yourself',\n",
       " 'yourselves'}"
      ]
     },
     "execution_count": 304,
     "metadata": {},
     "output_type": "execute_result"
    }
   ],
   "source": [
    "from nltk.corpus import stopwords\n",
    "stopwords_list = set(stopwords.words('english'))\n",
    "stopwords_list.remove('no')\n",
    "stopwords_list.remove('not')\n",
    "stopwords_list"
   ]
  },
  {
   "cell_type": "code",
   "execution_count": 191,
   "id": "24af8df5",
   "metadata": {},
   "outputs": [],
   "source": [
    "def remove_special_characters(text):\n",
    "    text = re.sub('[^a-zA-z0-9\\s]', '', text)\n",
    "    return text"
   ]
  },
  {
   "cell_type": "code",
   "execution_count": 322,
   "id": "49f15a75",
   "metadata": {},
   "outputs": [],
   "source": [
    "train['review'] = train['review'].apply(remove_special_characters)"
   ]
  },
  {
   "cell_type": "code",
   "execution_count": 262,
   "id": "5a138818",
   "metadata": {},
   "outputs": [],
   "source": [
    "def remove_html(text):\n",
    "    html = re.compile(r'<.*?>')\n",
    "    return html.sub(r' ',text)"
   ]
  },
  {
   "cell_type": "code",
   "execution_count": 323,
   "id": "7dca30db",
   "metadata": {},
   "outputs": [],
   "source": [
    "train['review'] = train['review'].apply(remove_html)"
   ]
  },
  {
   "cell_type": "code",
   "execution_count": 264,
   "id": "c15021a0",
   "metadata": {},
   "outputs": [],
   "source": [
    "def remove_URL(text):\n",
    "    url = re.compile(r'https?://\\S+|www\\.\\S')\n",
    "    return url.sub(r' ', text)"
   ]
  },
  {
   "cell_type": "code",
   "execution_count": 324,
   "id": "900628b3",
   "metadata": {},
   "outputs": [],
   "source": [
    "train['review'] = train['review'].apply(remove_URL)"
   ]
  },
  {
   "cell_type": "code",
   "execution_count": 169,
   "id": "fa0a51c0",
   "metadata": {},
   "outputs": [],
   "source": [
    "def remove_numbers(text):\n",
    "    '''digit removal'''\n",
    "    \n",
    "    text = ''.join([i for i in text if not i.isdigit()])\n",
    "    return text"
   ]
  },
  {
   "cell_type": "code",
   "execution_count": 325,
   "id": "2aa0c0d1",
   "metadata": {},
   "outputs": [],
   "source": [
    "train['review'] = train['review'].apply(remove_numbers)"
   ]
  },
  {
   "cell_type": "code",
   "execution_count": 305,
   "id": "88d08475",
   "metadata": {},
   "outputs": [],
   "source": [
    "def cleans(word):\n",
    "    rx = re.compile(r'\\D*\\d')\n",
    "    if rx.match(word):\n",
    "        return ''\n",
    "    return word\n",
    "def remove_alphanumeric(strings):\n",
    "    nstrings = [\" \".join(filter(None, (\n",
    "    cleans(word) for word in string.split())))\n",
    "    for string in strings.split()]\n",
    "    str1 = ' '.join(nstrings)\n",
    "    return str1"
   ]
  },
  {
   "cell_type": "code",
   "execution_count": 328,
   "id": "a72cc1e6",
   "metadata": {},
   "outputs": [],
   "source": [
    "train['review'] = train['review'].apply(remove_alphanumeric)"
   ]
  },
  {
   "cell_type": "code",
   "execution_count": 330,
   "id": "ad4694a6",
   "metadata": {},
   "outputs": [],
   "source": [
    "def custom_remove_stopwords(text, is_lower_case=False):\n",
    "    tokens = tokenizer.tokenize(text)\n",
    "    tokens = [token.strip() for token in tokens]\n",
    "    if is_lower_case:\n",
    "        filtered_tokens = [token for token in tokens if token not in stopwords_list]\n",
    "    else:\n",
    "        \n",
    "        filtered_tokens = [token for token in tokens if token.lower() not in stopwords_list]\n",
    "    filtered_text = ' '.join(filtered_tokens)\n",
    "    return filtered_text"
   ]
  },
  {
   "cell_type": "code",
   "execution_count": 331,
   "id": "fd80c40a",
   "metadata": {},
   "outputs": [],
   "source": [
    "train['review'] = train['review'].apply(custom_remove_stopwords)"
   ]
  },
  {
   "cell_type": "code",
   "execution_count": 334,
   "id": "dc63e974",
   "metadata": {},
   "outputs": [],
   "source": [
    "def lemmatize_text(text):\n",
    "    text = nlp(text)\n",
    "    text = ' '.join([word.lemma_ if word.lemma_ != '-PRON-' else word.text for word in text])\n",
    "    return text"
   ]
  },
  {
   "cell_type": "code",
   "execution_count": 335,
   "id": "0488c8bb",
   "metadata": {},
   "outputs": [],
   "source": [
    "train['review'] = train['review'].apply(lemmatize_text)"
   ]
  },
  {
   "cell_type": "code",
   "execution_count": 337,
   "id": "77bfad8e",
   "metadata": {},
   "outputs": [],
   "source": [
    "train['no_sentiment'] = train['review'].apply(lambda tweet: TextBlob(tweet).sentiment)"
   ]
  },
  {
   "cell_type": "code",
   "execution_count": 340,
   "id": "029a2c92",
   "metadata": {},
   "outputs": [],
   "source": [
    "sentiment_series = train['no_sentiment'].tolist()"
   ]
  },
  {
   "cell_type": "code",
   "execution_count": 341,
   "id": "9335a50c",
   "metadata": {},
   "outputs": [],
   "source": [
    "columns = ['polarity', 'subjectivity']\n",
    "df = pd.DataFrame(sentiment_series, columns=columns, index=train.index)"
   ]
  },
  {
   "cell_type": "code",
   "execution_count": 342,
   "id": "4c4cf91a",
   "metadata": {},
   "outputs": [
    {
     "data": {
      "text/html": [
       "<div>\n",
       "<style scoped>\n",
       "    .dataframe tbody tr th:only-of-type {\n",
       "        vertical-align: middle;\n",
       "    }\n",
       "\n",
       "    .dataframe tbody tr th {\n",
       "        vertical-align: top;\n",
       "    }\n",
       "\n",
       "    .dataframe thead th {\n",
       "        text-align: right;\n",
       "    }\n",
       "</style>\n",
       "<table border=\"1\" class=\"dataframe\">\n",
       "  <thead>\n",
       "    <tr style=\"text-align: right;\">\n",
       "      <th></th>\n",
       "      <th>polarity</th>\n",
       "      <th>subjectivity</th>\n",
       "    </tr>\n",
       "  </thead>\n",
       "  <tbody>\n",
       "    <tr>\n",
       "      <th>25281</th>\n",
       "      <td>-0.195238</td>\n",
       "      <td>0.537434</td>\n",
       "    </tr>\n",
       "    <tr>\n",
       "      <th>17041</th>\n",
       "      <td>-0.096944</td>\n",
       "      <td>0.559167</td>\n",
       "    </tr>\n",
       "    <tr>\n",
       "      <th>18569</th>\n",
       "      <td>0.158333</td>\n",
       "      <td>0.448889</td>\n",
       "    </tr>\n",
       "    <tr>\n",
       "      <th>41855</th>\n",
       "      <td>-0.027273</td>\n",
       "      <td>0.475758</td>\n",
       "    </tr>\n",
       "    <tr>\n",
       "      <th>4845</th>\n",
       "      <td>-0.055540</td>\n",
       "      <td>0.537610</td>\n",
       "    </tr>\n",
       "    <tr>\n",
       "      <th>...</th>\n",
       "      <td>...</td>\n",
       "      <td>...</td>\n",
       "    </tr>\n",
       "    <tr>\n",
       "      <th>13754</th>\n",
       "      <td>0.286111</td>\n",
       "      <td>0.511111</td>\n",
       "    </tr>\n",
       "    <tr>\n",
       "      <th>16942</th>\n",
       "      <td>0.002180</td>\n",
       "      <td>0.458712</td>\n",
       "    </tr>\n",
       "    <tr>\n",
       "      <th>46690</th>\n",
       "      <td>-0.051610</td>\n",
       "      <td>0.529261</td>\n",
       "    </tr>\n",
       "    <tr>\n",
       "      <th>18894</th>\n",
       "      <td>0.149769</td>\n",
       "      <td>0.561831</td>\n",
       "    </tr>\n",
       "    <tr>\n",
       "      <th>2431</th>\n",
       "      <td>0.020343</td>\n",
       "      <td>0.532353</td>\n",
       "    </tr>\n",
       "  </tbody>\n",
       "</table>\n",
       "<p>10000 rows × 2 columns</p>\n",
       "</div>"
      ],
      "text/plain": [
       "       polarity  subjectivity\n",
       "25281 -0.195238      0.537434\n",
       "17041 -0.096944      0.559167\n",
       "18569  0.158333      0.448889\n",
       "41855 -0.027273      0.475758\n",
       "4845  -0.055540      0.537610\n",
       "...         ...           ...\n",
       "13754  0.286111      0.511111\n",
       "16942  0.002180      0.458712\n",
       "46690 -0.051610      0.529261\n",
       "18894  0.149769      0.561831\n",
       "2431   0.020343      0.532353\n",
       "\n",
       "[10000 rows x 2 columns]"
      ]
     },
     "execution_count": 342,
     "metadata": {},
     "output_type": "execute_result"
    }
   ],
   "source": [
    "df"
   ]
  },
  {
   "cell_type": "code",
   "execution_count": 344,
   "id": "4b00b332",
   "metadata": {},
   "outputs": [],
   "source": [
    "result = pd.concat([train,df],axis=1)"
   ]
  },
  {
   "cell_type": "code",
   "execution_count": 345,
   "id": "c883f60d",
   "metadata": {},
   "outputs": [],
   "source": [
    "result.drop(['no_sentiment'],axis=1,inplace=True)"
   ]
  },
  {
   "cell_type": "code",
   "execution_count": 346,
   "id": "79ac8845",
   "metadata": {},
   "outputs": [],
   "source": [
    "result.loc[result['polarity']>=0.3, 'Sentiment'] = \"Positive\"\n",
    "result.loc[result['polarity']<0.3, 'Sentiment'] = \"Negative\""
   ]
  },
  {
   "cell_type": "code",
   "execution_count": 351,
   "id": "fe7f4306",
   "metadata": {},
   "outputs": [],
   "source": [
    "result.loc[result['sentiment']=='positive', 'Sentiment_label'] = 1\n",
    "result.loc[result['sentiment']=='negative', 'Sentiment_label'] = 0"
   ]
  },
  {
   "cell_type": "code",
   "execution_count": 353,
   "id": "a39617cb",
   "metadata": {},
   "outputs": [
    {
     "name": "stdout",
     "output_type": "stream",
     "text": [
      "done\n"
     ]
    }
   ],
   "source": [
    "print('done')"
   ]
  },
  {
   "cell_type": "code",
   "execution_count": 338,
   "id": "489abde5",
   "metadata": {},
   "outputs": [
    {
     "data": {
      "text/html": [
       "<div>\n",
       "<style scoped>\n",
       "    .dataframe tbody tr th:only-of-type {\n",
       "        vertical-align: middle;\n",
       "    }\n",
       "\n",
       "    .dataframe tbody tr th {\n",
       "        vertical-align: top;\n",
       "    }\n",
       "\n",
       "    .dataframe thead th {\n",
       "        text-align: right;\n",
       "    }\n",
       "</style>\n",
       "<table border=\"1\" class=\"dataframe\">\n",
       "  <thead>\n",
       "    <tr style=\"text-align: right;\">\n",
       "      <th></th>\n",
       "      <th>review</th>\n",
       "      <th>sentiment</th>\n",
       "      <th>no_sentiment</th>\n",
       "    </tr>\n",
       "  </thead>\n",
       "  <tbody>\n",
       "    <tr>\n",
       "      <th>25281</th>\n",
       "      <td>I m see pattern see movie Mystery Science Thea...</td>\n",
       "      <td>negative</td>\n",
       "      <td>(-0.19523809523809518, 0.5374338624338625)</td>\n",
       "    </tr>\n",
       "    <tr>\n",
       "      <th>17041</th>\n",
       "      <td>reason do not delete movie min already waste m...</td>\n",
       "      <td>negative</td>\n",
       "      <td>(-0.09694444444444446, 0.5591666666666666)</td>\n",
       "    </tr>\n",
       "    <tr>\n",
       "      <th>18569</th>\n",
       "      <td>Jeff Wincott not Hunk kick butt movie good mar...</td>\n",
       "      <td>positive</td>\n",
       "      <td>(0.15833333333333333, 0.4488888888888889)</td>\n",
       "    </tr>\n",
       "    <tr>\n",
       "      <th>41855</th>\n",
       "      <td>second time I ve felt compel enough comment im...</td>\n",
       "      <td>negative</td>\n",
       "      <td>(-0.027272727272727226, 0.47575757575757577)</td>\n",
       "    </tr>\n",
       "    <tr>\n",
       "      <th>4845</th>\n",
       "      <td>time Hellraiser franchise reach forth film pre...</td>\n",
       "      <td>negative</td>\n",
       "      <td>(-0.05553977272727271, 0.5376104797979798)</td>\n",
       "    </tr>\n",
       "    <tr>\n",
       "      <th>...</th>\n",
       "      <td>...</td>\n",
       "      <td>...</td>\n",
       "      <td>...</td>\n",
       "    </tr>\n",
       "    <tr>\n",
       "      <th>13754</th>\n",
       "      <td>may think Imaginary Heroes movie exactly like ...</td>\n",
       "      <td>positive</td>\n",
       "      <td>(0.28611111111111115, 0.5111111111111111)</td>\n",
       "    </tr>\n",
       "    <tr>\n",
       "      <th>16942</th>\n",
       "      <td>be not art innerurban politicallycorrect propa...</td>\n",
       "      <td>negative</td>\n",
       "      <td>(0.0021804899645808634, 0.4587121212121213)</td>\n",
       "    </tr>\n",
       "    <tr>\n",
       "      <th>46690</th>\n",
       "      <td>movie start well enough stick mood book fairly...</td>\n",
       "      <td>negative</td>\n",
       "      <td>(-0.05160984848484847, 0.5292613636363634)</td>\n",
       "    </tr>\n",
       "    <tr>\n",
       "      <th>18894</th>\n",
       "      <td>subtlety film think lot people may miss they r...</td>\n",
       "      <td>positive</td>\n",
       "      <td>(0.1497685185185185, 0.5618312757201646)</td>\n",
       "    </tr>\n",
       "    <tr>\n",
       "      <th>2431</th>\n",
       "      <td>Demi Woody marry they re poor meet Robert Redf...</td>\n",
       "      <td>negative</td>\n",
       "      <td>(0.02034313725490196, 0.5323529411764706)</td>\n",
       "    </tr>\n",
       "  </tbody>\n",
       "</table>\n",
       "<p>10000 rows × 3 columns</p>\n",
       "</div>"
      ],
      "text/plain": [
       "                                                  review sentiment  \\\n",
       "25281  I m see pattern see movie Mystery Science Thea...  negative   \n",
       "17041  reason do not delete movie min already waste m...  negative   \n",
       "18569  Jeff Wincott not Hunk kick butt movie good mar...  positive   \n",
       "41855  second time I ve felt compel enough comment im...  negative   \n",
       "4845   time Hellraiser franchise reach forth film pre...  negative   \n",
       "...                                                  ...       ...   \n",
       "13754  may think Imaginary Heroes movie exactly like ...  positive   \n",
       "16942  be not art innerurban politicallycorrect propa...  negative   \n",
       "46690  movie start well enough stick mood book fairly...  negative   \n",
       "18894  subtlety film think lot people may miss they r...  positive   \n",
       "2431   Demi Woody marry they re poor meet Robert Redf...  negative   \n",
       "\n",
       "                                       no_sentiment  \n",
       "25281    (-0.19523809523809518, 0.5374338624338625)  \n",
       "17041    (-0.09694444444444446, 0.5591666666666666)  \n",
       "18569     (0.15833333333333333, 0.4488888888888889)  \n",
       "41855  (-0.027272727272727226, 0.47575757575757577)  \n",
       "4845     (-0.05553977272727271, 0.5376104797979798)  \n",
       "...                                             ...  \n",
       "13754     (0.28611111111111115, 0.5111111111111111)  \n",
       "16942   (0.0021804899645808634, 0.4587121212121213)  \n",
       "46690    (-0.05160984848484847, 0.5292613636363634)  \n",
       "18894      (0.1497685185185185, 0.5618312757201646)  \n",
       "2431      (0.02034313725490196, 0.5323529411764706)  \n",
       "\n",
       "[10000 rows x 3 columns]"
      ]
     },
     "execution_count": 338,
     "metadata": {},
     "output_type": "execute_result"
    }
   ],
   "source": [
    "# train = train.drop(columns=['no_sentiment'])\n",
    "train\n"
   ]
  }
 ],
 "metadata": {
  "kernelspec": {
   "display_name": "Python 3 (ipykernel)",
   "language": "python",
   "name": "python3"
  },
  "language_info": {
   "codemirror_mode": {
    "name": "ipython",
    "version": 3
   },
   "file_extension": ".py",
   "mimetype": "text/x-python",
   "name": "python",
   "nbconvert_exporter": "python",
   "pygments_lexer": "ipython3",
   "version": "3.11.5"
  }
 },
 "nbformat": 4,
 "nbformat_minor": 5
}
